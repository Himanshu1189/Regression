{
 "cells": [
  {
   "cell_type": "code",
   "execution_count": 2,
   "metadata": {},
   "outputs": [],
   "source": [
    "# Importing libraries\n",
    "import pandas as pd\n",
    "import matplotlib.pyplot as plt\n",
    "import numpy as np"
   ]
  },
  {
   "cell_type": "code",
   "execution_count": 3,
   "metadata": {},
   "outputs": [],
   "source": [
    "# Importing data\n",
    "dataset = pd.read_csv('/home/himanshu/Analytics Vidhya/Train.csv')"
   ]
  },
  {
   "cell_type": "code",
   "execution_count": 4,
   "metadata": {},
   "outputs": [
    {
     "name": "stdout",
     "output_type": "stream",
     "text": [
      "  Item_Identifier  Item_Weight Item_Fat_Content  Item_Visibility  \\\n",
      "0           FDA15         9.30          Low Fat         0.016047   \n",
      "1           DRC01         5.92          Regular         0.019278   \n",
      "2           FDN15        17.50          Low Fat         0.016760   \n",
      "3           FDX07        19.20          Regular         0.000000   \n",
      "4           NCD19         8.93          Low Fat         0.000000   \n",
      "\n",
      "               Item_Type  Item_MRP Outlet_Identifier  \\\n",
      "0                  Dairy  249.8092            OUT049   \n",
      "1            Soft Drinks   48.2692            OUT018   \n",
      "2                   Meat  141.6180            OUT049   \n",
      "3  Fruits and Vegetables  182.0950            OUT010   \n",
      "4              Household   53.8614            OUT013   \n",
      "\n",
      "   Outlet_Establishment_Year Outlet_Size Outlet_Location_Type  \\\n",
      "0                       1999      Medium               Tier 1   \n",
      "1                       2009      Medium               Tier 3   \n",
      "2                       1999      Medium               Tier 1   \n",
      "3                       1998         NaN               Tier 3   \n",
      "4                       1987        High               Tier 3   \n",
      "\n",
      "         Outlet_Type  Item_Outlet_Sales  \n",
      "0  Supermarket Type1          3735.1380  \n",
      "1  Supermarket Type2           443.4228  \n",
      "2  Supermarket Type1          2097.2700  \n",
      "3      Grocery Store           732.3800  \n",
      "4  Supermarket Type1           994.7052  \n"
     ]
    }
   ],
   "source": [
    "print(dataset.head())"
   ]
  },
  {
   "cell_type": "code",
   "execution_count": 5,
   "metadata": {},
   "outputs": [
    {
     "name": "stdout",
     "output_type": "stream",
     "text": [
      "Item_Identifier                 0\n",
      "Item_Weight                  1463\n",
      "Item_Fat_Content                0\n",
      "Item_Visibility                 0\n",
      "Item_Type                       0\n",
      "Item_MRP                        0\n",
      "Outlet_Identifier               0\n",
      "Outlet_Establishment_Year       0\n",
      "Outlet_Size                  2410\n",
      "Outlet_Location_Type            0\n",
      "Outlet_Type                     0\n",
      "Item_Outlet_Sales               0\n",
      "dtype: int64\n"
     ]
    }
   ],
   "source": [
    "print(dataset.isnull().sum())"
   ]
  },
  {
   "cell_type": "code",
   "execution_count": 6,
   "metadata": {},
   "outputs": [
    {
     "name": "stdout",
     "output_type": "stream",
     "text": [
      "(8523, 12)\n"
     ]
    }
   ],
   "source": [
    "print(dataset.shape)"
   ]
  },
  {
   "cell_type": "code",
   "execution_count": 7,
   "metadata": {},
   "outputs": [
    {
     "data": {
      "text/plain": [
       "Item_Identifier              0.000000\n",
       "Item_Weight                  0.171653\n",
       "Item_Fat_Content             0.000000\n",
       "Item_Visibility              0.000000\n",
       "Item_Type                    0.000000\n",
       "Item_MRP                     0.000000\n",
       "Outlet_Identifier            0.000000\n",
       "Outlet_Establishment_Year    0.000000\n",
       "Outlet_Size                  0.282764\n",
       "Outlet_Location_Type         0.000000\n",
       "Outlet_Type                  0.000000\n",
       "Item_Outlet_Sales            0.000000\n",
       "dtype: float64"
      ]
     },
     "execution_count": 7,
     "metadata": {},
     "output_type": "execute_result"
    }
   ],
   "source": [
    "dataset.isnull().sum()/len(dataset)"
   ]
  },
  {
   "cell_type": "code",
   "execution_count": 8,
   "metadata": {},
   "outputs": [],
   "source": [
    "dataset = dataset.dropna()"
   ]
  },
  {
   "cell_type": "code",
   "execution_count": 9,
   "metadata": {},
   "outputs": [
    {
     "name": "stdout",
     "output_type": "stream",
     "text": [
      "Item_Identifier              0\n",
      "Item_Weight                  0\n",
      "Item_Fat_Content             0\n",
      "Item_Visibility              0\n",
      "Item_Type                    0\n",
      "Item_MRP                     0\n",
      "Outlet_Identifier            0\n",
      "Outlet_Establishment_Year    0\n",
      "Outlet_Size                  0\n",
      "Outlet_Location_Type         0\n",
      "Outlet_Type                  0\n",
      "Item_Outlet_Sales            0\n",
      "dtype: int64\n"
     ]
    }
   ],
   "source": [
    "print(dataset.isnull().sum())"
   ]
  },
  {
   "cell_type": "code",
   "execution_count": 10,
   "metadata": {},
   "outputs": [
    {
     "data": {
      "text/plain": [
       "(4650, 12)"
      ]
     },
     "execution_count": 10,
     "metadata": {},
     "output_type": "execute_result"
    }
   ],
   "source": [
    "dataset.shape"
   ]
  },
  {
   "cell_type": "code",
   "execution_count": 11,
   "metadata": {},
   "outputs": [
    {
     "data": {
      "text/html": [
       "<div>\n",
       "<style scoped>\n",
       "    .dataframe tbody tr th:only-of-type {\n",
       "        vertical-align: middle;\n",
       "    }\n",
       "\n",
       "    .dataframe tbody tr th {\n",
       "        vertical-align: top;\n",
       "    }\n",
       "\n",
       "    .dataframe thead th {\n",
       "        text-align: right;\n",
       "    }\n",
       "</style>\n",
       "<table border=\"1\" class=\"dataframe\">\n",
       "  <thead>\n",
       "    <tr style=\"text-align: right;\">\n",
       "      <th></th>\n",
       "      <th>Item_Weight</th>\n",
       "      <th>Item_Visibility</th>\n",
       "      <th>Item_MRP</th>\n",
       "      <th>Outlet_Establishment_Year</th>\n",
       "      <th>Item_Outlet_Sales</th>\n",
       "    </tr>\n",
       "  </thead>\n",
       "  <tbody>\n",
       "    <tr>\n",
       "      <th>count</th>\n",
       "      <td>4650.000000</td>\n",
       "      <td>4650.000000</td>\n",
       "      <td>4650.000000</td>\n",
       "      <td>4650.000000</td>\n",
       "      <td>4650.000000</td>\n",
       "    </tr>\n",
       "    <tr>\n",
       "      <th>mean</th>\n",
       "      <td>12.898675</td>\n",
       "      <td>0.060700</td>\n",
       "      <td>141.716328</td>\n",
       "      <td>1999.190538</td>\n",
       "      <td>2272.037489</td>\n",
       "    </tr>\n",
       "    <tr>\n",
       "      <th>std</th>\n",
       "      <td>4.670973</td>\n",
       "      <td>0.044607</td>\n",
       "      <td>62.420534</td>\n",
       "      <td>7.388800</td>\n",
       "      <td>1497.964740</td>\n",
       "    </tr>\n",
       "    <tr>\n",
       "      <th>min</th>\n",
       "      <td>4.555000</td>\n",
       "      <td>0.000000</td>\n",
       "      <td>31.490000</td>\n",
       "      <td>1987.000000</td>\n",
       "      <td>69.243200</td>\n",
       "    </tr>\n",
       "    <tr>\n",
       "      <th>25%</th>\n",
       "      <td>8.770000</td>\n",
       "      <td>0.025968</td>\n",
       "      <td>94.409400</td>\n",
       "      <td>1997.000000</td>\n",
       "      <td>1125.202000</td>\n",
       "    </tr>\n",
       "    <tr>\n",
       "      <th>50%</th>\n",
       "      <td>12.650000</td>\n",
       "      <td>0.049655</td>\n",
       "      <td>142.979900</td>\n",
       "      <td>1999.000000</td>\n",
       "      <td>1939.808300</td>\n",
       "    </tr>\n",
       "    <tr>\n",
       "      <th>75%</th>\n",
       "      <td>17.000000</td>\n",
       "      <td>0.088736</td>\n",
       "      <td>186.614150</td>\n",
       "      <td>2004.000000</td>\n",
       "      <td>3111.616300</td>\n",
       "    </tr>\n",
       "    <tr>\n",
       "      <th>max</th>\n",
       "      <td>21.350000</td>\n",
       "      <td>0.188323</td>\n",
       "      <td>266.888400</td>\n",
       "      <td>2009.000000</td>\n",
       "      <td>10256.649000</td>\n",
       "    </tr>\n",
       "  </tbody>\n",
       "</table>\n",
       "</div>"
      ],
      "text/plain": [
       "       Item_Weight  Item_Visibility     Item_MRP  Outlet_Establishment_Year  \\\n",
       "count  4650.000000      4650.000000  4650.000000                4650.000000   \n",
       "mean     12.898675         0.060700   141.716328                1999.190538   \n",
       "std       4.670973         0.044607    62.420534                   7.388800   \n",
       "min       4.555000         0.000000    31.490000                1987.000000   \n",
       "25%       8.770000         0.025968    94.409400                1997.000000   \n",
       "50%      12.650000         0.049655   142.979900                1999.000000   \n",
       "75%      17.000000         0.088736   186.614150                2004.000000   \n",
       "max      21.350000         0.188323   266.888400                2009.000000   \n",
       "\n",
       "       Item_Outlet_Sales  \n",
       "count        4650.000000  \n",
       "mean         2272.037489  \n",
       "std          1497.964740  \n",
       "min            69.243200  \n",
       "25%          1125.202000  \n",
       "50%          1939.808300  \n",
       "75%          3111.616300  \n",
       "max         10256.649000  "
      ]
     },
     "execution_count": 11,
     "metadata": {},
     "output_type": "execute_result"
    }
   ],
   "source": [
    "dataset.describe()"
   ]
  },
  {
   "cell_type": "code",
   "execution_count": 12,
   "metadata": {},
   "outputs": [
    {
     "data": {
      "text/plain": [
       "Item_Identifier               object\n",
       "Item_Weight                  float64\n",
       "Item_Fat_Content              object\n",
       "Item_Visibility              float64\n",
       "Item_Type                     object\n",
       "Item_MRP                     float64\n",
       "Outlet_Identifier             object\n",
       "Outlet_Establishment_Year      int64\n",
       "Outlet_Size                   object\n",
       "Outlet_Location_Type          object\n",
       "Outlet_Type                   object\n",
       "Item_Outlet_Sales            float64\n",
       "dtype: object"
      ]
     },
     "execution_count": 12,
     "metadata": {},
     "output_type": "execute_result"
    }
   ],
   "source": [
    "dataset.dtypes"
   ]
  },
  {
   "cell_type": "code",
   "execution_count": 13,
   "metadata": {},
   "outputs": [],
   "source": [
    "dataset_numeric = dataset._get_numeric_data()"
   ]
  },
  {
   "cell_type": "code",
   "execution_count": 14,
   "metadata": {},
   "outputs": [
    {
     "data": {
      "text/plain": [
       "Item_Weight                  float64\n",
       "Item_Visibility              float64\n",
       "Item_MRP                     float64\n",
       "Outlet_Establishment_Year      int64\n",
       "Item_Outlet_Sales            float64\n",
       "dtype: object"
      ]
     },
     "execution_count": 14,
     "metadata": {},
     "output_type": "execute_result"
    }
   ],
   "source": [
    "dataset_numeric.dtypes"
   ]
  },
  {
   "cell_type": "code",
   "execution_count": 206,
   "metadata": {},
   "outputs": [
    {
     "name": "stderr",
     "output_type": "stream",
     "text": [
      "/home/himanshu/anaconda3/lib/python3.7/site-packages/scipy/stats/stats.py:1713: FutureWarning: Using a non-tuple sequence for multidimensional indexing is deprecated; use `arr[tuple(seq)]` instead of `arr[seq]`. In the future this will be interpreted as an array index, `arr[np.array(seq)]`, which will result either in an error or a different result.\n",
      "  return np.add.reduce(sorted[indexer] * weights, axis=axis) / sumval\n"
     ]
    },
    {
     "data": {
      "image/png": "[encoded data removed]",
      "text/plain": [
       "<Figure size 432x288 with 1 Axes>"
      ]
     },
     "metadata": {
      "needs_background": "light"
     },
     "output_type": "display_data"
    },
    {
     "data": {
      "image/png": "[encoded data removed]",
      "text/plain": [
       "<Figure size 432x288 with 1 Axes>"
      ]
     },
     "metadata": {
      "needs_background": "light"
     },
     "output_type": "display_data"
    },
    {
     "data": {
      "image/png": "[encoded data removed]",
      "text/plain": [
       "<Figure size 432x288 with 1 Axes>"
      ]
     },
     "metadata": {
      "needs_background": "light"
     },
     "output_type": "display_data"
    },
    {
     "data": {
      "image/png": "[encoded data removed]",
      "text/plain": [
       "<Figure size 432x288 with 1 Axes>"
      ]
     },
     "metadata": {
      "needs_background": "light"
     },
     "output_type": "display_data"
    },
    {
     "data": {
      "image/png": "[encoded data removed]",
      "text/plain": [
       "<Figure size 432x288 with 1 Axes>"
      ]
     },
     "metadata": {
      "needs_background": "light"
     },
     "output_type": "display_data"
    }
   ],
   "source": [
    "# Create histogram for all numeric variables\n",
    "import seaborn as sns\n",
    "for i, col in enumerate(dataset_numeric.columns):\n",
    "    plt.figure(i)\n",
    "    sns.distplot(dataset_numeric[col])"
   ]
  },
  {
   "cell_type": "code",
   "execution_count": 207,
   "metadata": {},
   "outputs": [
    {
     "data": {
      "image/png": "[encoded data removed]",
      "text/plain": [
       "<Figure size 432x288 with 1 Axes>"
      ]
     },
     "metadata": {
      "needs_background": "light"
     },
     "output_type": "display_data"
    },
    {
     "data": {
      "image/png": "[encoded data removed]",
      "text/plain": [
       "<Figure size 432x288 with 1 Axes>"
      ]
     },
     "metadata": {
      "needs_background": "light"
     },
     "output_type": "display_data"
    },
    {
     "data": {
      "image/png": "[encoded data removed]",
      "text/plain": [
       "<Figure size 432x288 with 1 Axes>"
      ]
     },
     "metadata": {
      "needs_background": "light"
     },
     "output_type": "display_data"
    },
    {
     "data": {
      "image/png": "[encoded data removed]",
      "text/plain": [
       "<Figure size 432x288 with 1 Axes>"
      ]
     },
     "metadata": {
      "needs_background": "light"
     },
     "output_type": "display_data"
    },
    {
     "data": {
      "image/png": "[encoded data removed]",
      "text/plain": [
       "<Figure size 432x288 with 1 Axes>"
      ]
     },
     "metadata": {
      "needs_background": "light"
     },
     "output_type": "display_data"
    }
   ],
   "source": [
    "for i, col in enumerate(dataset_numeric.columns):\n",
    "    plt.figure(i)\n",
    "    sns.boxplot(dataset_numeric[col])"
   ]
  },
  {
   "cell_type": "code",
   "execution_count": 208,
   "metadata": {},
   "outputs": [],
   "source": [
    "IQR = 0.08873 - 0.02568\n",
    "Q1 = 0.02568\n",
    "Q3 = 0.08873"
   ]
  },
  {
   "cell_type": "code",
   "execution_count": 209,
   "metadata": {},
   "outputs": [
    {
     "data": {
      "text/plain": [
       "array(['OUT049', 'OUT018', 'OUT013', 'OUT046', 'OUT035'], dtype=object)"
      ]
     },
     "execution_count": 209,
     "metadata": {},
     "output_type": "execute_result"
    }
   ],
   "source": [
    "dataset['Item_Identifier'].nunique()\n",
    "dataset['Item_Identifier'].unique()\n",
    "dataset['Outlet_Identifier'].nunique()\n",
    "dataset['Outlet_Identifier'].unique()"
   ]
  },
  {
   "cell_type": "code",
   "execution_count": 210,
   "metadata": {},
   "outputs": [
    {
     "data": {
      "text/plain": [
       "1535"
      ]
     },
     "execution_count": 210,
     "metadata": {},
     "output_type": "execute_result"
    }
   ],
   "source": [
    "dataset['Item_Identifier'].nunique()"
   ]
  },
  {
   "cell_type": "code",
   "execution_count": 211,
   "metadata": {},
   "outputs": [
    {
     "data": {
      "text/plain": [
       "array(['FDA15', 'DRC01', 'FDN15', ..., 'FDC28', 'FDV31', 'FDO03'],\n",
       "      dtype=object)"
      ]
     },
     "execution_count": 211,
     "metadata": {},
     "output_type": "execute_result"
    }
   ],
   "source": [
    "dataset['Item_Identifier'].unique()"
   ]
  },
  {
   "cell_type": "code",
   "execution_count": 212,
   "metadata": {},
   "outputs": [
    {
     "data": {
      "text/plain": [
       "5"
      ]
     },
     "execution_count": 212,
     "metadata": {},
     "output_type": "execute_result"
    }
   ],
   "source": [
    "dataset['Outlet_Identifier'].nunique()"
   ]
  },
  {
   "cell_type": "code",
   "execution_count": 213,
   "metadata": {},
   "outputs": [
    {
     "data": {
      "text/plain": [
       "array(['OUT049', 'OUT018', 'OUT013', 'OUT046', 'OUT035'], dtype=object)"
      ]
     },
     "execution_count": 213,
     "metadata": {},
     "output_type": "execute_result"
    }
   ],
   "source": [
    "dataset['Outlet_Identifier'].unique()"
   ]
  },
  {
   "cell_type": "code",
   "execution_count": 15,
   "metadata": {},
   "outputs": [],
   "source": [
    "dataset.reset_index(inplace=True)\n",
    "for i in range(0, len(dataset)):\n",
    "    dataset.loc[i,'Age'] = 2013 - dataset.loc[i,'Outlet_Establishment_Year']"
   ]
  },
  {
   "cell_type": "code",
   "execution_count": 16,
   "metadata": {},
   "outputs": [
    {
     "data": {
      "text/html": [
       "<div>\n",
       "<style scoped>\n",
       "    .dataframe tbody tr th:only-of-type {\n",
       "        vertical-align: middle;\n",
       "    }\n",
       "\n",
       "    .dataframe tbody tr th {\n",
       "        vertical-align: top;\n",
       "    }\n",
       "\n",
       "    .dataframe thead th {\n",
       "        text-align: right;\n",
       "    }\n",
       "</style>\n",
       "<table border=\"1\" class=\"dataframe\">\n",
       "  <thead>\n",
       "    <tr style=\"text-align: right;\">\n",
       "      <th></th>\n",
       "      <th>index</th>\n",
       "      <th>Item_Identifier</th>\n",
       "      <th>Item_Weight</th>\n",
       "      <th>Item_Fat_Content</th>\n",
       "      <th>Item_Visibility</th>\n",
       "      <th>Item_Type</th>\n",
       "      <th>Item_MRP</th>\n",
       "      <th>Outlet_Identifier</th>\n",
       "      <th>Outlet_Establishment_Year</th>\n",
       "      <th>Outlet_Size</th>\n",
       "      <th>Outlet_Location_Type</th>\n",
       "      <th>Outlet_Type</th>\n",
       "      <th>Item_Outlet_Sales</th>\n",
       "      <th>Age</th>\n",
       "    </tr>\n",
       "  </thead>\n",
       "  <tbody>\n",
       "    <tr>\n",
       "      <th>0</th>\n",
       "      <td>0</td>\n",
       "      <td>FDA15</td>\n",
       "      <td>9.300</td>\n",
       "      <td>Low Fat</td>\n",
       "      <td>0.016047</td>\n",
       "      <td>Dairy</td>\n",
       "      <td>249.8092</td>\n",
       "      <td>OUT049</td>\n",
       "      <td>1999</td>\n",
       "      <td>Medium</td>\n",
       "      <td>Tier 1</td>\n",
       "      <td>Supermarket Type1</td>\n",
       "      <td>3735.1380</td>\n",
       "      <td>14.0</td>\n",
       "    </tr>\n",
       "    <tr>\n",
       "      <th>1</th>\n",
       "      <td>1</td>\n",
       "      <td>DRC01</td>\n",
       "      <td>5.920</td>\n",
       "      <td>Regular</td>\n",
       "      <td>0.019278</td>\n",
       "      <td>Soft Drinks</td>\n",
       "      <td>48.2692</td>\n",
       "      <td>OUT018</td>\n",
       "      <td>2009</td>\n",
       "      <td>Medium</td>\n",
       "      <td>Tier 3</td>\n",
       "      <td>Supermarket Type2</td>\n",
       "      <td>443.4228</td>\n",
       "      <td>4.0</td>\n",
       "    </tr>\n",
       "    <tr>\n",
       "      <th>2</th>\n",
       "      <td>2</td>\n",
       "      <td>FDN15</td>\n",
       "      <td>17.500</td>\n",
       "      <td>Low Fat</td>\n",
       "      <td>0.016760</td>\n",
       "      <td>Meat</td>\n",
       "      <td>141.6180</td>\n",
       "      <td>OUT049</td>\n",
       "      <td>1999</td>\n",
       "      <td>Medium</td>\n",
       "      <td>Tier 1</td>\n",
       "      <td>Supermarket Type1</td>\n",
       "      <td>2097.2700</td>\n",
       "      <td>14.0</td>\n",
       "    </tr>\n",
       "    <tr>\n",
       "      <th>3</th>\n",
       "      <td>4</td>\n",
       "      <td>NCD19</td>\n",
       "      <td>8.930</td>\n",
       "      <td>Low Fat</td>\n",
       "      <td>0.000000</td>\n",
       "      <td>Household</td>\n",
       "      <td>53.8614</td>\n",
       "      <td>OUT013</td>\n",
       "      <td>1987</td>\n",
       "      <td>High</td>\n",
       "      <td>Tier 3</td>\n",
       "      <td>Supermarket Type1</td>\n",
       "      <td>994.7052</td>\n",
       "      <td>26.0</td>\n",
       "    </tr>\n",
       "    <tr>\n",
       "      <th>4</th>\n",
       "      <td>5</td>\n",
       "      <td>FDP36</td>\n",
       "      <td>10.395</td>\n",
       "      <td>Regular</td>\n",
       "      <td>0.000000</td>\n",
       "      <td>Baking Goods</td>\n",
       "      <td>51.4008</td>\n",
       "      <td>OUT018</td>\n",
       "      <td>2009</td>\n",
       "      <td>Medium</td>\n",
       "      <td>Tier 3</td>\n",
       "      <td>Supermarket Type2</td>\n",
       "      <td>556.6088</td>\n",
       "      <td>4.0</td>\n",
       "    </tr>\n",
       "  </tbody>\n",
       "</table>\n",
       "</div>"
      ],
      "text/plain": [
       "   index Item_Identifier  Item_Weight Item_Fat_Content  Item_Visibility  \\\n",
       "0      0           FDA15        9.300          Low Fat         0.016047   \n",
       "1      1           DRC01        5.920          Regular         0.019278   \n",
       "2      2           FDN15       17.500          Low Fat         0.016760   \n",
       "3      4           NCD19        8.930          Low Fat         0.000000   \n",
       "4      5           FDP36       10.395          Regular         0.000000   \n",
       "\n",
       "      Item_Type  Item_MRP Outlet_Identifier  Outlet_Establishment_Year  \\\n",
       "0         Dairy  249.8092            OUT049                       1999   \n",
       "1   Soft Drinks   48.2692            OUT018                       2009   \n",
       "2          Meat  141.6180            OUT049                       1999   \n",
       "3     Household   53.8614            OUT013                       1987   \n",
       "4  Baking Goods   51.4008            OUT018                       2009   \n",
       "\n",
       "  Outlet_Size Outlet_Location_Type        Outlet_Type  Item_Outlet_Sales   Age  \n",
       "0      Medium               Tier 1  Supermarket Type1          3735.1380  14.0  \n",
       "1      Medium               Tier 3  Supermarket Type2           443.4228   4.0  \n",
       "2      Medium               Tier 1  Supermarket Type1          2097.2700  14.0  \n",
       "3        High               Tier 3  Supermarket Type1           994.7052  26.0  \n",
       "4      Medium               Tier 3  Supermarket Type2           556.6088   4.0  "
      ]
     },
     "execution_count": 16,
     "metadata": {},
     "output_type": "execute_result"
    }
   ],
   "source": [
    "dataset.head()"
   ]
  },
  {
   "cell_type": "code",
   "execution_count": 17,
   "metadata": {},
   "outputs": [],
   "source": [
    "dataset['Age'] = dataset.Age.astype(int)"
   ]
  },
  {
   "cell_type": "code",
   "execution_count": 18,
   "metadata": {},
   "outputs": [
    {
     "data": {
      "text/plain": [
       "dtype('int64')"
      ]
     },
     "execution_count": 18,
     "metadata": {},
     "output_type": "execute_result"
    }
   ],
   "source": [
    "dataset.Age.dtype"
   ]
  },
  {
   "cell_type": "code",
   "execution_count": 19,
   "metadata": {},
   "outputs": [],
   "source": [
    "dataset = dataset.iloc[:,2:]"
   ]
  },
  {
   "cell_type": "code",
   "execution_count": 20,
   "metadata": {},
   "outputs": [],
   "source": [
    "dataset.drop(['Outlet_Establishment_Year'], axis=1, inplace=True)"
   ]
  },
  {
   "cell_type": "code",
   "execution_count": 21,
   "metadata": {},
   "outputs": [
    {
     "data": {
      "text/html": [
       "<div>\n",
       "<style scoped>\n",
       "    .dataframe tbody tr th:only-of-type {\n",
       "        vertical-align: middle;\n",
       "    }\n",
       "\n",
       "    .dataframe tbody tr th {\n",
       "        vertical-align: top;\n",
       "    }\n",
       "\n",
       "    .dataframe thead th {\n",
       "        text-align: right;\n",
       "    }\n",
       "</style>\n",
       "<table border=\"1\" class=\"dataframe\">\n",
       "  <thead>\n",
       "    <tr style=\"text-align: right;\">\n",
       "      <th></th>\n",
       "      <th>Item_Weight</th>\n",
       "      <th>Item_Fat_Content</th>\n",
       "      <th>Item_Visibility</th>\n",
       "      <th>Item_Type</th>\n",
       "      <th>Item_MRP</th>\n",
       "      <th>Outlet_Identifier</th>\n",
       "      <th>Outlet_Size</th>\n",
       "      <th>Outlet_Location_Type</th>\n",
       "      <th>Outlet_Type</th>\n",
       "      <th>Item_Outlet_Sales</th>\n",
       "      <th>Age</th>\n",
       "    </tr>\n",
       "  </thead>\n",
       "  <tbody>\n",
       "    <tr>\n",
       "      <th>0</th>\n",
       "      <td>9.300</td>\n",
       "      <td>Low Fat</td>\n",
       "      <td>0.016047</td>\n",
       "      <td>Dairy</td>\n",
       "      <td>249.8092</td>\n",
       "      <td>OUT049</td>\n",
       "      <td>Medium</td>\n",
       "      <td>Tier 1</td>\n",
       "      <td>Supermarket Type1</td>\n",
       "      <td>3735.1380</td>\n",
       "      <td>14</td>\n",
       "    </tr>\n",
       "    <tr>\n",
       "      <th>1</th>\n",
       "      <td>5.920</td>\n",
       "      <td>Regular</td>\n",
       "      <td>0.019278</td>\n",
       "      <td>Soft Drinks</td>\n",
       "      <td>48.2692</td>\n",
       "      <td>OUT018</td>\n",
       "      <td>Medium</td>\n",
       "      <td>Tier 3</td>\n",
       "      <td>Supermarket Type2</td>\n",
       "      <td>443.4228</td>\n",
       "      <td>4</td>\n",
       "    </tr>\n",
       "    <tr>\n",
       "      <th>2</th>\n",
       "      <td>17.500</td>\n",
       "      <td>Low Fat</td>\n",
       "      <td>0.016760</td>\n",
       "      <td>Meat</td>\n",
       "      <td>141.6180</td>\n",
       "      <td>OUT049</td>\n",
       "      <td>Medium</td>\n",
       "      <td>Tier 1</td>\n",
       "      <td>Supermarket Type1</td>\n",
       "      <td>2097.2700</td>\n",
       "      <td>14</td>\n",
       "    </tr>\n",
       "    <tr>\n",
       "      <th>3</th>\n",
       "      <td>8.930</td>\n",
       "      <td>Low Fat</td>\n",
       "      <td>0.000000</td>\n",
       "      <td>Household</td>\n",
       "      <td>53.8614</td>\n",
       "      <td>OUT013</td>\n",
       "      <td>High</td>\n",
       "      <td>Tier 3</td>\n",
       "      <td>Supermarket Type1</td>\n",
       "      <td>994.7052</td>\n",
       "      <td>26</td>\n",
       "    </tr>\n",
       "    <tr>\n",
       "      <th>4</th>\n",
       "      <td>10.395</td>\n",
       "      <td>Regular</td>\n",
       "      <td>0.000000</td>\n",
       "      <td>Baking Goods</td>\n",
       "      <td>51.4008</td>\n",
       "      <td>OUT018</td>\n",
       "      <td>Medium</td>\n",
       "      <td>Tier 3</td>\n",
       "      <td>Supermarket Type2</td>\n",
       "      <td>556.6088</td>\n",
       "      <td>4</td>\n",
       "    </tr>\n",
       "  </tbody>\n",
       "</table>\n",
       "</div>"
      ],
      "text/plain": [
       "   Item_Weight Item_Fat_Content  Item_Visibility     Item_Type  Item_MRP  \\\n",
       "0        9.300          Low Fat         0.016047         Dairy  249.8092   \n",
       "1        5.920          Regular         0.019278   Soft Drinks   48.2692   \n",
       "2       17.500          Low Fat         0.016760          Meat  141.6180   \n",
       "3        8.930          Low Fat         0.000000     Household   53.8614   \n",
       "4       10.395          Regular         0.000000  Baking Goods   51.4008   \n",
       "\n",
       "  Outlet_Identifier Outlet_Size Outlet_Location_Type        Outlet_Type  \\\n",
       "0            OUT049      Medium               Tier 1  Supermarket Type1   \n",
       "1            OUT018      Medium               Tier 3  Supermarket Type2   \n",
       "2            OUT049      Medium               Tier 1  Supermarket Type1   \n",
       "3            OUT013        High               Tier 3  Supermarket Type1   \n",
       "4            OUT018      Medium               Tier 3  Supermarket Type2   \n",
       "\n",
       "   Item_Outlet_Sales  Age  \n",
       "0          3735.1380   14  \n",
       "1           443.4228    4  \n",
       "2          2097.2700   14  \n",
       "3           994.7052   26  \n",
       "4           556.6088    4  "
      ]
     },
     "execution_count": 21,
     "metadata": {},
     "output_type": "execute_result"
    }
   ],
   "source": [
    "dataset.head()"
   ]
  },
  {
   "cell_type": "code",
   "execution_count": 22,
   "metadata": {},
   "outputs": [],
   "source": [
    "for i in range(0, len(dataset)):\n",
    "    if dataset.loc[i, 'Item_Visibility'] > 0:\n",
    "        dataset.loc[i, 'is_visible'] = 1\n",
    "    else: \n",
    "        dataset.loc[i, 'is_visible'] = 0"
   ]
  },
  {
   "cell_type": "code",
   "execution_count": 23,
   "metadata": {},
   "outputs": [
    {
     "ename": "KeyError",
     "evalue": "\"['Item_Identifier'] not found in axis\"",
     "output_type": "error",
     "traceback": [
      "\u001b[0;31m---------------------------------------------------------------------------\u001b[0m",
      "\u001b[0;31mKeyError\u001b[0m                                  Traceback (most recent call last)",
      "\u001b[0;32m<ipython-input-23-5657e6ef38b3>\u001b[0m in \u001b[0;36m<module>\u001b[0;34m()\u001b[0m\n\u001b[0;32m----> 1\u001b[0;31m \u001b[0mdataset\u001b[0m\u001b[0;34m.\u001b[0m\u001b[0mdrop\u001b[0m\u001b[0;34m(\u001b[0m\u001b[0;34m[\u001b[0m\u001b[0;34m'Item_Identifier'\u001b[0m\u001b[0;34m]\u001b[0m\u001b[0;34m,\u001b[0m \u001b[0maxis\u001b[0m\u001b[0;34m=\u001b[0m\u001b[0;36m1\u001b[0m\u001b[0;34m,\u001b[0m \u001b[0minplace\u001b[0m\u001b[0;34m=\u001b[0m\u001b[0;32mTrue\u001b[0m\u001b[0;34m)\u001b[0m\u001b[0;34m\u001b[0m\u001b[0m\n\u001b[0m",
      "\u001b[0;32m~/anaconda3/lib/python3.7/site-packages/pandas/core/frame.py\u001b[0m in \u001b[0;36mdrop\u001b[0;34m(self, labels, axis, index, columns, level, inplace, errors)\u001b[0m\n\u001b[1;32m   3695\u001b[0m                                            \u001b[0mindex\u001b[0m\u001b[0;34m=\u001b[0m\u001b[0mindex\u001b[0m\u001b[0;34m,\u001b[0m \u001b[0mcolumns\u001b[0m\u001b[0;34m=\u001b[0m\u001b[0mcolumns\u001b[0m\u001b[0;34m,\u001b[0m\u001b[0;34m\u001b[0m\u001b[0m\n\u001b[1;32m   3696\u001b[0m                                            \u001b[0mlevel\u001b[0m\u001b[0;34m=\u001b[0m\u001b[0mlevel\u001b[0m\u001b[0;34m,\u001b[0m \u001b[0minplace\u001b[0m\u001b[0;34m=\u001b[0m\u001b[0minplace\u001b[0m\u001b[0;34m,\u001b[0m\u001b[0;34m\u001b[0m\u001b[0m\n\u001b[0;32m-> 3697\u001b[0;31m                                            errors=errors)\n\u001b[0m\u001b[1;32m   3698\u001b[0m \u001b[0;34m\u001b[0m\u001b[0m\n\u001b[1;32m   3699\u001b[0m     @rewrite_axis_style_signature('mapper', [('copy', True),\n",
      "\u001b[0;32m~/anaconda3/lib/python3.7/site-packages/pandas/core/generic.py\u001b[0m in \u001b[0;36mdrop\u001b[0;34m(self, labels, axis, index, columns, level, inplace, errors)\u001b[0m\n\u001b[1;32m   3109\u001b[0m         \u001b[0;32mfor\u001b[0m \u001b[0maxis\u001b[0m\u001b[0;34m,\u001b[0m \u001b[0mlabels\u001b[0m \u001b[0;32min\u001b[0m \u001b[0maxes\u001b[0m\u001b[0;34m.\u001b[0m\u001b[0mitems\u001b[0m\u001b[0;34m(\u001b[0m\u001b[0;34m)\u001b[0m\u001b[0;34m:\u001b[0m\u001b[0;34m\u001b[0m\u001b[0m\n\u001b[1;32m   3110\u001b[0m             \u001b[0;32mif\u001b[0m \u001b[0mlabels\u001b[0m \u001b[0;32mis\u001b[0m \u001b[0;32mnot\u001b[0m \u001b[0;32mNone\u001b[0m\u001b[0;34m:\u001b[0m\u001b[0;34m\u001b[0m\u001b[0m\n\u001b[0;32m-> 3111\u001b[0;31m                 \u001b[0mobj\u001b[0m \u001b[0;34m=\u001b[0m \u001b[0mobj\u001b[0m\u001b[0;34m.\u001b[0m\u001b[0m_drop_axis\u001b[0m\u001b[0;34m(\u001b[0m\u001b[0mlabels\u001b[0m\u001b[0;34m,\u001b[0m \u001b[0maxis\u001b[0m\u001b[0;34m,\u001b[0m \u001b[0mlevel\u001b[0m\u001b[0;34m=\u001b[0m\u001b[0mlevel\u001b[0m\u001b[0;34m,\u001b[0m \u001b[0merrors\u001b[0m\u001b[0;34m=\u001b[0m\u001b[0merrors\u001b[0m\u001b[0;34m)\u001b[0m\u001b[0;34m\u001b[0m\u001b[0m\n\u001b[0m\u001b[1;32m   3112\u001b[0m \u001b[0;34m\u001b[0m\u001b[0m\n\u001b[1;32m   3113\u001b[0m         \u001b[0;32mif\u001b[0m \u001b[0minplace\u001b[0m\u001b[0;34m:\u001b[0m\u001b[0;34m\u001b[0m\u001b[0m\n",
      "\u001b[0;32m~/anaconda3/lib/python3.7/site-packages/pandas/core/generic.py\u001b[0m in \u001b[0;36m_drop_axis\u001b[0;34m(self, labels, axis, level, errors)\u001b[0m\n\u001b[1;32m   3141\u001b[0m                 \u001b[0mnew_axis\u001b[0m \u001b[0;34m=\u001b[0m \u001b[0maxis\u001b[0m\u001b[0;34m.\u001b[0m\u001b[0mdrop\u001b[0m\u001b[0;34m(\u001b[0m\u001b[0mlabels\u001b[0m\u001b[0;34m,\u001b[0m \u001b[0mlevel\u001b[0m\u001b[0;34m=\u001b[0m\u001b[0mlevel\u001b[0m\u001b[0;34m,\u001b[0m \u001b[0merrors\u001b[0m\u001b[0;34m=\u001b[0m\u001b[0merrors\u001b[0m\u001b[0;34m)\u001b[0m\u001b[0;34m\u001b[0m\u001b[0m\n\u001b[1;32m   3142\u001b[0m             \u001b[0;32melse\u001b[0m\u001b[0;34m:\u001b[0m\u001b[0;34m\u001b[0m\u001b[0m\n\u001b[0;32m-> 3143\u001b[0;31m                 \u001b[0mnew_axis\u001b[0m \u001b[0;34m=\u001b[0m \u001b[0maxis\u001b[0m\u001b[0;34m.\u001b[0m\u001b[0mdrop\u001b[0m\u001b[0;34m(\u001b[0m\u001b[0mlabels\u001b[0m\u001b[0;34m,\u001b[0m \u001b[0merrors\u001b[0m\u001b[0;34m=\u001b[0m\u001b[0merrors\u001b[0m\u001b[0;34m)\u001b[0m\u001b[0;34m\u001b[0m\u001b[0m\n\u001b[0m\u001b[1;32m   3144\u001b[0m             \u001b[0mresult\u001b[0m \u001b[0;34m=\u001b[0m \u001b[0mself\u001b[0m\u001b[0;34m.\u001b[0m\u001b[0mreindex\u001b[0m\u001b[0;34m(\u001b[0m\u001b[0;34m**\u001b[0m\u001b[0;34m{\u001b[0m\u001b[0maxis_name\u001b[0m\u001b[0;34m:\u001b[0m \u001b[0mnew_axis\u001b[0m\u001b[0;34m}\u001b[0m\u001b[0;34m)\u001b[0m\u001b[0;34m\u001b[0m\u001b[0m\n\u001b[1;32m   3145\u001b[0m \u001b[0;34m\u001b[0m\u001b[0m\n",
      "\u001b[0;32m~/anaconda3/lib/python3.7/site-packages/pandas/core/indexes/base.py\u001b[0m in \u001b[0;36mdrop\u001b[0;34m(self, labels, errors)\u001b[0m\n\u001b[1;32m   4402\u001b[0m             \u001b[0;32mif\u001b[0m \u001b[0merrors\u001b[0m \u001b[0;34m!=\u001b[0m \u001b[0;34m'ignore'\u001b[0m\u001b[0;34m:\u001b[0m\u001b[0;34m\u001b[0m\u001b[0m\n\u001b[1;32m   4403\u001b[0m                 raise KeyError(\n\u001b[0;32m-> 4404\u001b[0;31m                     '{} not found in axis'.format(labels[mask]))\n\u001b[0m\u001b[1;32m   4405\u001b[0m             \u001b[0mindexer\u001b[0m \u001b[0;34m=\u001b[0m \u001b[0mindexer\u001b[0m\u001b[0;34m[\u001b[0m\u001b[0;34m~\u001b[0m\u001b[0mmask\u001b[0m\u001b[0;34m]\u001b[0m\u001b[0;34m\u001b[0m\u001b[0m\n\u001b[1;32m   4406\u001b[0m         \u001b[0;32mreturn\u001b[0m \u001b[0mself\u001b[0m\u001b[0;34m.\u001b[0m\u001b[0mdelete\u001b[0m\u001b[0;34m(\u001b[0m\u001b[0mindexer\u001b[0m\u001b[0;34m)\u001b[0m\u001b[0;34m\u001b[0m\u001b[0m\n",
      "\u001b[0;31mKeyError\u001b[0m: \"['Item_Identifier'] not found in axis\""
     ]
    }
   ],
   "source": [
    "dataset.drop(['Item_Identifier'], axis=1, inplace=True)"
   ]
  },
  {
   "cell_type": "code",
   "execution_count": 24,
   "metadata": {},
   "outputs": [
    {
     "data": {
      "text/html": [
       "<div>\n",
       "<style scoped>\n",
       "    .dataframe tbody tr th:only-of-type {\n",
       "        vertical-align: middle;\n",
       "    }\n",
       "\n",
       "    .dataframe tbody tr th {\n",
       "        vertical-align: top;\n",
       "    }\n",
       "\n",
       "    .dataframe thead th {\n",
       "        text-align: right;\n",
       "    }\n",
       "</style>\n",
       "<table border=\"1\" class=\"dataframe\">\n",
       "  <thead>\n",
       "    <tr style=\"text-align: right;\">\n",
       "      <th></th>\n",
       "      <th>Item_Weight</th>\n",
       "      <th>Item_Fat_Content</th>\n",
       "      <th>Item_Visibility</th>\n",
       "      <th>Item_Type</th>\n",
       "      <th>Item_MRP</th>\n",
       "      <th>Outlet_Identifier</th>\n",
       "      <th>Outlet_Size</th>\n",
       "      <th>Outlet_Location_Type</th>\n",
       "      <th>Outlet_Type</th>\n",
       "      <th>Item_Outlet_Sales</th>\n",
       "      <th>Age</th>\n",
       "      <th>is_visible</th>\n",
       "    </tr>\n",
       "  </thead>\n",
       "  <tbody>\n",
       "    <tr>\n",
       "      <th>0</th>\n",
       "      <td>9.300</td>\n",
       "      <td>Low Fat</td>\n",
       "      <td>0.016047</td>\n",
       "      <td>Dairy</td>\n",
       "      <td>249.8092</td>\n",
       "      <td>OUT049</td>\n",
       "      <td>Medium</td>\n",
       "      <td>Tier 1</td>\n",
       "      <td>Supermarket Type1</td>\n",
       "      <td>3735.1380</td>\n",
       "      <td>14</td>\n",
       "      <td>1.0</td>\n",
       "    </tr>\n",
       "    <tr>\n",
       "      <th>1</th>\n",
       "      <td>5.920</td>\n",
       "      <td>Regular</td>\n",
       "      <td>0.019278</td>\n",
       "      <td>Soft Drinks</td>\n",
       "      <td>48.2692</td>\n",
       "      <td>OUT018</td>\n",
       "      <td>Medium</td>\n",
       "      <td>Tier 3</td>\n",
       "      <td>Supermarket Type2</td>\n",
       "      <td>443.4228</td>\n",
       "      <td>4</td>\n",
       "      <td>1.0</td>\n",
       "    </tr>\n",
       "    <tr>\n",
       "      <th>2</th>\n",
       "      <td>17.500</td>\n",
       "      <td>Low Fat</td>\n",
       "      <td>0.016760</td>\n",
       "      <td>Meat</td>\n",
       "      <td>141.6180</td>\n",
       "      <td>OUT049</td>\n",
       "      <td>Medium</td>\n",
       "      <td>Tier 1</td>\n",
       "      <td>Supermarket Type1</td>\n",
       "      <td>2097.2700</td>\n",
       "      <td>14</td>\n",
       "      <td>1.0</td>\n",
       "    </tr>\n",
       "    <tr>\n",
       "      <th>3</th>\n",
       "      <td>8.930</td>\n",
       "      <td>Low Fat</td>\n",
       "      <td>0.000000</td>\n",
       "      <td>Household</td>\n",
       "      <td>53.8614</td>\n",
       "      <td>OUT013</td>\n",
       "      <td>High</td>\n",
       "      <td>Tier 3</td>\n",
       "      <td>Supermarket Type1</td>\n",
       "      <td>994.7052</td>\n",
       "      <td>26</td>\n",
       "      <td>0.0</td>\n",
       "    </tr>\n",
       "    <tr>\n",
       "      <th>4</th>\n",
       "      <td>10.395</td>\n",
       "      <td>Regular</td>\n",
       "      <td>0.000000</td>\n",
       "      <td>Baking Goods</td>\n",
       "      <td>51.4008</td>\n",
       "      <td>OUT018</td>\n",
       "      <td>Medium</td>\n",
       "      <td>Tier 3</td>\n",
       "      <td>Supermarket Type2</td>\n",
       "      <td>556.6088</td>\n",
       "      <td>4</td>\n",
       "      <td>0.0</td>\n",
       "    </tr>\n",
       "  </tbody>\n",
       "</table>\n",
       "</div>"
      ],
      "text/plain": [
       "   Item_Weight Item_Fat_Content  Item_Visibility     Item_Type  Item_MRP  \\\n",
       "0        9.300          Low Fat         0.016047         Dairy  249.8092   \n",
       "1        5.920          Regular         0.019278   Soft Drinks   48.2692   \n",
       "2       17.500          Low Fat         0.016760          Meat  141.6180   \n",
       "3        8.930          Low Fat         0.000000     Household   53.8614   \n",
       "4       10.395          Regular         0.000000  Baking Goods   51.4008   \n",
       "\n",
       "  Outlet_Identifier Outlet_Size Outlet_Location_Type        Outlet_Type  \\\n",
       "0            OUT049      Medium               Tier 1  Supermarket Type1   \n",
       "1            OUT018      Medium               Tier 3  Supermarket Type2   \n",
       "2            OUT049      Medium               Tier 1  Supermarket Type1   \n",
       "3            OUT013        High               Tier 3  Supermarket Type1   \n",
       "4            OUT018      Medium               Tier 3  Supermarket Type2   \n",
       "\n",
       "   Item_Outlet_Sales  Age  is_visible  \n",
       "0          3735.1380   14         1.0  \n",
       "1           443.4228    4         1.0  \n",
       "2          2097.2700   14         1.0  \n",
       "3           994.7052   26         0.0  \n",
       "4           556.6088    4         0.0  "
      ]
     },
     "execution_count": 24,
     "metadata": {},
     "output_type": "execute_result"
    }
   ],
   "source": [
    "dataset.head()"
   ]
  },
  {
   "cell_type": "code",
   "execution_count": 25,
   "metadata": {},
   "outputs": [],
   "source": [
    "dataset.is_visible = dataset.is_visible.astype(int)"
   ]
  },
  {
   "cell_type": "code",
   "execution_count": 26,
   "metadata": {},
   "outputs": [],
   "source": [
    "dataset.head()\n",
    "x = dataset.drop(['Item_Outlet_Sales'], axis=1)\n",
    "y = dataset.Item_Outlet_Sales"
   ]
  },
  {
   "cell_type": "code",
   "execution_count": 27,
   "metadata": {},
   "outputs": [],
   "source": [
    "x.Outlet_Type = x.Outlet_Type.str.replace('\\s+', '_')"
   ]
  },
  {
   "cell_type": "code",
   "execution_count": 28,
   "metadata": {},
   "outputs": [],
   "source": [
    "x_cat = dataset.select_dtypes(include='object')"
   ]
  },
  {
   "cell_type": "code",
   "execution_count": 29,
   "metadata": {},
   "outputs": [
    {
     "data": {
      "text/html": [
       "<div>\n",
       "<style scoped>\n",
       "    .dataframe tbody tr th:only-of-type {\n",
       "        vertical-align: middle;\n",
       "    }\n",
       "\n",
       "    .dataframe tbody tr th {\n",
       "        vertical-align: top;\n",
       "    }\n",
       "\n",
       "    .dataframe thead th {\n",
       "        text-align: right;\n",
       "    }\n",
       "</style>\n",
       "<table border=\"1\" class=\"dataframe\">\n",
       "  <thead>\n",
       "    <tr style=\"text-align: right;\">\n",
       "      <th></th>\n",
       "      <th>Item_Fat_Content</th>\n",
       "      <th>Item_Type</th>\n",
       "      <th>Outlet_Identifier</th>\n",
       "      <th>Outlet_Size</th>\n",
       "      <th>Outlet_Location_Type</th>\n",
       "      <th>Outlet_Type</th>\n",
       "    </tr>\n",
       "  </thead>\n",
       "  <tbody>\n",
       "    <tr>\n",
       "      <th>0</th>\n",
       "      <td>Low Fat</td>\n",
       "      <td>Dairy</td>\n",
       "      <td>OUT049</td>\n",
       "      <td>Medium</td>\n",
       "      <td>Tier 1</td>\n",
       "      <td>Supermarket Type1</td>\n",
       "    </tr>\n",
       "    <tr>\n",
       "      <th>1</th>\n",
       "      <td>Regular</td>\n",
       "      <td>Soft Drinks</td>\n",
       "      <td>OUT018</td>\n",
       "      <td>Medium</td>\n",
       "      <td>Tier 3</td>\n",
       "      <td>Supermarket Type2</td>\n",
       "    </tr>\n",
       "    <tr>\n",
       "      <th>2</th>\n",
       "      <td>Low Fat</td>\n",
       "      <td>Meat</td>\n",
       "      <td>OUT049</td>\n",
       "      <td>Medium</td>\n",
       "      <td>Tier 1</td>\n",
       "      <td>Supermarket Type1</td>\n",
       "    </tr>\n",
       "    <tr>\n",
       "      <th>3</th>\n",
       "      <td>Low Fat</td>\n",
       "      <td>Household</td>\n",
       "      <td>OUT013</td>\n",
       "      <td>High</td>\n",
       "      <td>Tier 3</td>\n",
       "      <td>Supermarket Type1</td>\n",
       "    </tr>\n",
       "    <tr>\n",
       "      <th>4</th>\n",
       "      <td>Regular</td>\n",
       "      <td>Baking Goods</td>\n",
       "      <td>OUT018</td>\n",
       "      <td>Medium</td>\n",
       "      <td>Tier 3</td>\n",
       "      <td>Supermarket Type2</td>\n",
       "    </tr>\n",
       "  </tbody>\n",
       "</table>\n",
       "</div>"
      ],
      "text/plain": [
       "  Item_Fat_Content     Item_Type Outlet_Identifier Outlet_Size  \\\n",
       "0          Low Fat         Dairy            OUT049      Medium   \n",
       "1          Regular   Soft Drinks            OUT018      Medium   \n",
       "2          Low Fat          Meat            OUT049      Medium   \n",
       "3          Low Fat     Household            OUT013        High   \n",
       "4          Regular  Baking Goods            OUT018      Medium   \n",
       "\n",
       "  Outlet_Location_Type        Outlet_Type  \n",
       "0               Tier 1  Supermarket Type1  \n",
       "1               Tier 3  Supermarket Type2  \n",
       "2               Tier 1  Supermarket Type1  \n",
       "3               Tier 3  Supermarket Type1  \n",
       "4               Tier 3  Supermarket Type2  "
      ]
     },
     "execution_count": 29,
     "metadata": {},
     "output_type": "execute_result"
    }
   ],
   "source": [
    "x_cat.head()"
   ]
  },
  {
   "cell_type": "code",
   "execution_count": 30,
   "metadata": {},
   "outputs": [],
   "source": [
    "col_names = x_cat.columns"
   ]
  },
  {
   "cell_type": "code",
   "execution_count": 31,
   "metadata": {},
   "outputs": [
    {
     "data": {
      "text/plain": [
       "Index(['Item_Fat_Content', 'Item_Type', 'Outlet_Identifier', 'Outlet_Size',\n",
       "       'Outlet_Location_Type', 'Outlet_Type'],\n",
       "      dtype='object')"
      ]
     },
     "execution_count": 31,
     "metadata": {},
     "output_type": "execute_result"
    }
   ],
   "source": [
    "col_names"
   ]
  },
  {
   "cell_type": "code",
   "execution_count": 32,
   "metadata": {},
   "outputs": [],
   "source": [
    "col_names = col_names.tolist()"
   ]
  },
  {
   "cell_type": "code",
   "execution_count": 33,
   "metadata": {},
   "outputs": [],
   "source": [
    "for i in col_names:\n",
    "    x[i] = x[i].astype('category')"
   ]
  },
  {
   "cell_type": "code",
   "execution_count": 34,
   "metadata": {},
   "outputs": [],
   "source": [
    "x = pd.DataFrame({col: x[col].astype('category').cat.codes for col in x}, index = x.index)"
   ]
  },
  {
   "cell_type": "code",
   "execution_count": 35,
   "metadata": {},
   "outputs": [
    {
     "data": {
      "text/plain": [
       "Item_Weight             int16\n",
       "Item_Fat_Content         int8\n",
       "Item_Visibility         int16\n",
       "Item_Type                int8\n",
       "Item_MRP                int16\n",
       "Outlet_Identifier        int8\n",
       "Outlet_Size              int8\n",
       "Outlet_Location_Type     int8\n",
       "Outlet_Type              int8\n",
       "Age                      int8\n",
       "is_visible               int8\n",
       "dtype: object"
      ]
     },
     "execution_count": 35,
     "metadata": {},
     "output_type": "execute_result"
    }
   ],
   "source": [
    "x.dtypes"
   ]
  },
  {
   "cell_type": "code",
   "execution_count": 36,
   "metadata": {},
   "outputs": [],
   "source": [
    "for i in col_names:\n",
    "    x[i] = x[i].astype('category')"
   ]
  },
  {
   "cell_type": "code",
   "execution_count": 37,
   "metadata": {},
   "outputs": [
    {
     "data": {
      "text/plain": [
       "Item_Weight                int16\n",
       "Item_Fat_Content        category\n",
       "Item_Visibility            int16\n",
       "Item_Type               category\n",
       "Item_MRP                   int16\n",
       "Outlet_Identifier       category\n",
       "Outlet_Size             category\n",
       "Outlet_Location_Type    category\n",
       "Outlet_Type             category\n",
       "Age                         int8\n",
       "is_visible                  int8\n",
       "dtype: object"
      ]
     },
     "execution_count": 37,
     "metadata": {},
     "output_type": "execute_result"
    }
   ],
   "source": [
    "x.dtypes"
   ]
  },
  {
   "cell_type": "code",
   "execution_count": 38,
   "metadata": {},
   "outputs": [],
   "source": [
    "x_ohe = pd.get_dummies(x, columns = col_names)"
   ]
  },
  {
   "cell_type": "code",
   "execution_count": 39,
   "metadata": {},
   "outputs": [
    {
     "data": {
      "text/html": [
       "<div>\n",
       "<style scoped>\n",
       "    .dataframe tbody tr th:only-of-type {\n",
       "        vertical-align: middle;\n",
       "    }\n",
       "\n",
       "    .dataframe tbody tr th {\n",
       "        vertical-align: top;\n",
       "    }\n",
       "\n",
       "    .dataframe thead th {\n",
       "        text-align: right;\n",
       "    }\n",
       "</style>\n",
       "<table border=\"1\" class=\"dataframe\">\n",
       "  <thead>\n",
       "    <tr style=\"text-align: right;\">\n",
       "      <th></th>\n",
       "      <th>Item_Weight</th>\n",
       "      <th>Item_Visibility</th>\n",
       "      <th>Item_MRP</th>\n",
       "      <th>Age</th>\n",
       "      <th>is_visible</th>\n",
       "      <th>Item_Fat_Content_0</th>\n",
       "      <th>Item_Fat_Content_1</th>\n",
       "      <th>Item_Fat_Content_2</th>\n",
       "      <th>Item_Fat_Content_3</th>\n",
       "      <th>Item_Fat_Content_4</th>\n",
       "      <th>...</th>\n",
       "      <th>Outlet_Identifier_3</th>\n",
       "      <th>Outlet_Identifier_4</th>\n",
       "      <th>Outlet_Size_0</th>\n",
       "      <th>Outlet_Size_1</th>\n",
       "      <th>Outlet_Size_2</th>\n",
       "      <th>Outlet_Location_Type_0</th>\n",
       "      <th>Outlet_Location_Type_1</th>\n",
       "      <th>Outlet_Location_Type_2</th>\n",
       "      <th>Outlet_Type_0</th>\n",
       "      <th>Outlet_Type_1</th>\n",
       "    </tr>\n",
       "  </thead>\n",
       "  <tbody>\n",
       "    <tr>\n",
       "      <th>0</th>\n",
       "      <td>279</td>\n",
       "      <td>395</td>\n",
       "      <td>3582</td>\n",
       "      <td>2</td>\n",
       "      <td>1</td>\n",
       "      <td>0</td>\n",
       "      <td>1</td>\n",
       "      <td>0</td>\n",
       "      <td>0</td>\n",
       "      <td>0</td>\n",
       "      <td>...</td>\n",
       "      <td>0</td>\n",
       "      <td>1</td>\n",
       "      <td>0</td>\n",
       "      <td>1</td>\n",
       "      <td>0</td>\n",
       "      <td>1</td>\n",
       "      <td>0</td>\n",
       "      <td>0</td>\n",
       "      <td>1</td>\n",
       "      <td>0</td>\n",
       "    </tr>\n",
       "    <tr>\n",
       "      <th>1</th>\n",
       "      <td>56</td>\n",
       "      <td>512</td>\n",
       "      <td>295</td>\n",
       "      <td>0</td>\n",
       "      <td>1</td>\n",
       "      <td>0</td>\n",
       "      <td>0</td>\n",
       "      <td>1</td>\n",
       "      <td>0</td>\n",
       "      <td>0</td>\n",
       "      <td>...</td>\n",
       "      <td>0</td>\n",
       "      <td>0</td>\n",
       "      <td>0</td>\n",
       "      <td>1</td>\n",
       "      <td>0</td>\n",
       "      <td>0</td>\n",
       "      <td>0</td>\n",
       "      <td>1</td>\n",
       "      <td>0</td>\n",
       "      <td>1</td>\n",
       "    </tr>\n",
       "    <tr>\n",
       "      <th>2</th>\n",
       "      <td>369</td>\n",
       "      <td>421</td>\n",
       "      <td>1874</td>\n",
       "      <td>2</td>\n",
       "      <td>1</td>\n",
       "      <td>0</td>\n",
       "      <td>1</td>\n",
       "      <td>0</td>\n",
       "      <td>0</td>\n",
       "      <td>0</td>\n",
       "      <td>...</td>\n",
       "      <td>0</td>\n",
       "      <td>1</td>\n",
       "      <td>0</td>\n",
       "      <td>1</td>\n",
       "      <td>0</td>\n",
       "      <td>1</td>\n",
       "      <td>0</td>\n",
       "      <td>0</td>\n",
       "      <td>1</td>\n",
       "      <td>0</td>\n",
       "    </tr>\n",
       "    <tr>\n",
       "      <th>3</th>\n",
       "      <td>261</td>\n",
       "      <td>0</td>\n",
       "      <td>391</td>\n",
       "      <td>4</td>\n",
       "      <td>0</td>\n",
       "      <td>0</td>\n",
       "      <td>1</td>\n",
       "      <td>0</td>\n",
       "      <td>0</td>\n",
       "      <td>0</td>\n",
       "      <td>...</td>\n",
       "      <td>0</td>\n",
       "      <td>0</td>\n",
       "      <td>1</td>\n",
       "      <td>0</td>\n",
       "      <td>0</td>\n",
       "      <td>0</td>\n",
       "      <td>0</td>\n",
       "      <td>1</td>\n",
       "      <td>1</td>\n",
       "      <td>0</td>\n",
       "    </tr>\n",
       "    <tr>\n",
       "      <th>4</th>\n",
       "      <td>291</td>\n",
       "      <td>0</td>\n",
       "      <td>354</td>\n",
       "      <td>0</td>\n",
       "      <td>0</td>\n",
       "      <td>0</td>\n",
       "      <td>0</td>\n",
       "      <td>1</td>\n",
       "      <td>0</td>\n",
       "      <td>0</td>\n",
       "      <td>...</td>\n",
       "      <td>0</td>\n",
       "      <td>0</td>\n",
       "      <td>0</td>\n",
       "      <td>1</td>\n",
       "      <td>0</td>\n",
       "      <td>0</td>\n",
       "      <td>0</td>\n",
       "      <td>1</td>\n",
       "      <td>0</td>\n",
       "      <td>1</td>\n",
       "    </tr>\n",
       "  </tbody>\n",
       "</table>\n",
       "<p>5 rows × 39 columns</p>\n",
       "</div>"
      ],
      "text/plain": [
       "   Item_Weight  Item_Visibility  Item_MRP  Age  is_visible  \\\n",
       "0          279              395      3582    2           1   \n",
       "1           56              512       295    0           1   \n",
       "2          369              421      1874    2           1   \n",
       "3          261                0       391    4           0   \n",
       "4          291                0       354    0           0   \n",
       "\n",
       "   Item_Fat_Content_0  Item_Fat_Content_1  Item_Fat_Content_2  \\\n",
       "0                   0                   1                   0   \n",
       "1                   0                   0                   1   \n",
       "2                   0                   1                   0   \n",
       "3                   0                   1                   0   \n",
       "4                   0                   0                   1   \n",
       "\n",
       "   Item_Fat_Content_3  Item_Fat_Content_4      ...        Outlet_Identifier_3  \\\n",
       "0                   0                   0      ...                          0   \n",
       "1                   0                   0      ...                          0   \n",
       "2                   0                   0      ...                          0   \n",
       "3                   0                   0      ...                          0   \n",
       "4                   0                   0      ...                          0   \n",
       "\n",
       "   Outlet_Identifier_4  Outlet_Size_0  Outlet_Size_1  Outlet_Size_2  \\\n",
       "0                    1              0              1              0   \n",
       "1                    0              0              1              0   \n",
       "2                    1              0              1              0   \n",
       "3                    0              1              0              0   \n",
       "4                    0              0              1              0   \n",
       "\n",
       "   Outlet_Location_Type_0  Outlet_Location_Type_1  Outlet_Location_Type_2  \\\n",
       "0                       1                       0                       0   \n",
       "1                       0                       0                       1   \n",
       "2                       1                       0                       0   \n",
       "3                       0                       0                       1   \n",
       "4                       0                       0                       1   \n",
       "\n",
       "   Outlet_Type_0  Outlet_Type_1  \n",
       "0              1              0  \n",
       "1              0              1  \n",
       "2              1              0  \n",
       "3              1              0  \n",
       "4              0              1  \n",
       "\n",
       "[5 rows x 39 columns]"
      ]
     },
     "execution_count": 39,
     "metadata": {},
     "output_type": "execute_result"
    }
   ],
   "source": [
    "x_ohe.head()"
   ]
  },
  {
   "cell_type": "code",
   "execution_count": 40,
   "metadata": {},
   "outputs": [
    {
     "data": {
      "text/plain": [
       "Index(['Item_Weight', 'Item_Visibility', 'Item_MRP', 'Age', 'is_visible',\n",
       "       'Item_Fat_Content_0', 'Item_Fat_Content_1', 'Item_Fat_Content_2',\n",
       "       'Item_Fat_Content_3', 'Item_Fat_Content_4', 'Item_Type_0',\n",
       "       'Item_Type_1', 'Item_Type_2', 'Item_Type_3', 'Item_Type_4',\n",
       "       'Item_Type_5', 'Item_Type_6', 'Item_Type_7', 'Item_Type_8',\n",
       "       'Item_Type_9', 'Item_Type_10', 'Item_Type_11', 'Item_Type_12',\n",
       "       'Item_Type_13', 'Item_Type_14', 'Item_Type_15', 'Outlet_Identifier_0',\n",
       "       'Outlet_Identifier_1', 'Outlet_Identifier_2', 'Outlet_Identifier_3',\n",
       "       'Outlet_Identifier_4', 'Outlet_Size_0', 'Outlet_Size_1',\n",
       "       'Outlet_Size_2', 'Outlet_Location_Type_0', 'Outlet_Location_Type_1',\n",
       "       'Outlet_Location_Type_2', 'Outlet_Type_0', 'Outlet_Type_1'],\n",
       "      dtype='object')"
      ]
     },
     "execution_count": 40,
     "metadata": {},
     "output_type": "execute_result"
    }
   ],
   "source": [
    "x_ohe.columns"
   ]
  },
  {
   "cell_type": "code",
   "execution_count": 41,
   "metadata": {},
   "outputs": [],
   "source": [
    "x_ohe = x_ohe.drop(['Item_Fat_Content_4', 'Item_Type_15', 'Outlet_Identifier_4', 'Outlet_Size_2', 'Outlet_Location_Type_2', 'Outlet_Type_1'], axis = 1)"
   ]
  },
  {
   "cell_type": "code",
   "execution_count": 42,
   "metadata": {},
   "outputs": [
    {
     "data": {
      "text/plain": [
       "(4650, 33)"
      ]
     },
     "execution_count": 42,
     "metadata": {},
     "output_type": "execute_result"
    }
   ],
   "source": [
    "x_ohe.shape"
   ]
  },
  {
   "cell_type": "code",
   "execution_count": 43,
   "metadata": {},
   "outputs": [],
   "source": [
    "# Splitting the dataset into test set & train set\n",
    "from sklearn.model_selection import train_test_split\n",
    "x_train, x_test, y_train, y_test = train_test_split(x, y, test_size = 0.20, random_state = 0)"
   ]
  },
  {
   "cell_type": "code",
   "execution_count": 44,
   "metadata": {},
   "outputs": [
    {
     "data": {
      "text/plain": [
       "LinearRegression(copy_X=True, fit_intercept=True, n_jobs=1, normalize=False)"
      ]
     },
     "execution_count": 44,
     "metadata": {},
     "output_type": "execute_result"
    }
   ],
   "source": [
    "# Fitting Linear Regression \n",
    "from sklearn.linear_model import LinearRegression\n",
    "regressor = LinearRegression()\n",
    "regressor.fit(x_train,y_train)"
   ]
  },
  {
   "cell_type": "code",
   "execution_count": 45,
   "metadata": {},
   "outputs": [],
   "source": [
    "x_predict = regressor.predict(x_test)"
   ]
  },
  {
   "cell_type": "code",
   "execution_count": 46,
   "metadata": {},
   "outputs": [],
   "source": [
    "from sklearn.metrics import r2_score"
   ]
  },
  {
   "cell_type": "code",
   "execution_count": 47,
   "metadata": {},
   "outputs": [
    {
     "data": {
      "text/plain": [
       "0.46968698296837996"
      ]
     },
     "execution_count": 47,
     "metadata": {},
     "output_type": "execute_result"
    }
   ],
   "source": [
    "r2_score(y_test, x_predict)"
   ]
  },
  {
   "cell_type": "code",
   "execution_count": 248,
   "metadata": {},
   "outputs": [],
   "source": [
    "def mean_absolute_percentage_error(y_true, y_pred):\n",
    "    y_true, y_pred = np.array(y_true), np.array(y_pred)\n",
    "    return np.mean(np.abs((y_true - y_pred) / y_true)) * 100    "
   ]
  },
  {
   "cell_type": "code",
   "execution_count": 249,
   "metadata": {},
   "outputs": [
    {
     "data": {
      "text/plain": [
       "59.90133374899087"
      ]
     },
     "execution_count": 249,
     "metadata": {},
     "output_type": "execute_result"
    }
   ],
   "source": [
    "mean_absolute_percentage_error(y_test, x_predict)"
   ]
  },
  {
   "cell_type": "code",
   "execution_count": 250,
   "metadata": {},
   "outputs": [
    {
     "data": {
      "text/plain": [
       "array([-2.52088266e-01, -6.78262314e+00, -1.39396993e-02, -6.11912234e-01,\n",
       "        9.32459330e-01,  2.65778998e+01, -2.49881205e+01,  4.74986819e+01,\n",
       "       -5.34506100e+02, -5.63565273e+01, -6.16448983e+01])"
      ]
     },
     "execution_count": 250,
     "metadata": {},
     "output_type": "execute_result"
    }
   ],
   "source": [
    "regressor.coef_"
   ]
  },
  {
   "cell_type": "code",
   "execution_count": 276,
   "metadata": {},
   "outputs": [
    {
     "data": {
      "text/plain": [
       "(3720,)"
      ]
     },
     "execution_count": 276,
     "metadata": {},
     "output_type": "execute_result"
    }
   ],
   "source": [
    "y_train.shape"
   ]
  },
  {
   "cell_type": "code",
   "execution_count": 293,
   "metadata": {},
   "outputs": [
    {
     "data": {
      "text/html": [
       "<table class=\"simpletable\">\n",
       "<caption>OLS Regression Results</caption>\n",
       "<tr>\n",
       "  <th>Dep. Variable:</th>    <td>Item_Outlet_Sales</td> <th>  R-squared:         </th> <td>   0.471</td> \n",
       "</tr>\n",
       "<tr>\n",
       "  <th>Model:</th>                   <td>OLS</td>        <th>  Adj. R-squared:    </th> <td>   0.468</td> \n",
       "</tr>\n",
       "<tr>\n",
       "  <th>Method:</th>             <td>Least Squares</td>   <th>  F-statistic:       </th> <td>   152.4</td> \n",
       "</tr>\n",
       "<tr>\n",
       "  <th>Date:</th>             <td>Thu, 13 Dec 2018</td>  <th>  Prob (F-statistic):</th>  <td>  0.00</td>  \n",
       "</tr>\n",
       "<tr>\n",
       "  <th>Time:</th>                 <td>14:47:26</td>      <th>  Log-Likelihood:    </th> <td> -39117.</td> \n",
       "</tr>\n",
       "<tr>\n",
       "  <th>No. Observations:</th>      <td>  4650</td>       <th>  AIC:               </th> <td>7.829e+04</td>\n",
       "</tr>\n",
       "<tr>\n",
       "  <th>Df Residuals:</th>          <td>  4622</td>       <th>  BIC:               </th> <td>7.847e+04</td>\n",
       "</tr>\n",
       "<tr>\n",
       "  <th>Df Model:</th>              <td>    27</td>       <th>                     </th>     <td> </td>    \n",
       "</tr>\n",
       "<tr>\n",
       "  <th>Covariance Type:</th>      <td>nonrobust</td>     <th>                     </th>     <td> </td>    \n",
       "</tr>\n",
       "</table>\n",
       "<table class=\"simpletable\">\n",
       "<tr>\n",
       "             <td></td>               <th>coef</th>     <th>std err</th>      <th>t</th>      <th>P>|t|</th>  <th>[0.025</th>    <th>0.975]</th>  \n",
       "</tr>\n",
       "<tr>\n",
       "  <th>Item_Weight</th>            <td>   -0.1551</td> <td>    0.158</td> <td>   -0.981</td> <td> 0.327</td> <td>   -0.465</td> <td>    0.155</td>\n",
       "</tr>\n",
       "<tr>\n",
       "  <th>Item_Visibility</th>        <td>   -0.0049</td> <td>    0.014</td> <td>   -0.363</td> <td> 0.717</td> <td>   -0.031</td> <td>    0.022</td>\n",
       "</tr>\n",
       "<tr>\n",
       "  <th>Item_MRP</th>               <td>    0.9392</td> <td>    0.015</td> <td>   62.974</td> <td> 0.000</td> <td>    0.910</td> <td>    0.968</td>\n",
       "</tr>\n",
       "<tr>\n",
       "  <th>Age</th>                    <td>  104.0203</td> <td>   42.445</td> <td>    2.451</td> <td> 0.014</td> <td>   20.809</td> <td>  187.232</td>\n",
       "</tr>\n",
       "<tr>\n",
       "  <th>is_visible</th>             <td>    9.1690</td> <td>   72.415</td> <td>    0.127</td> <td> 0.899</td> <td> -132.799</td> <td>  151.137</td>\n",
       "</tr>\n",
       "<tr>\n",
       "  <th>Item_Fat_Content_0</th>     <td>   56.0869</td> <td>  154.441</td> <td>    0.363</td> <td> 0.717</td> <td> -246.691</td> <td>  358.864</td>\n",
       "</tr>\n",
       "<tr>\n",
       "  <th>Item_Fat_Content_1</th>     <td>   77.4602</td> <td>  132.407</td> <td>    0.585</td> <td> 0.559</td> <td> -182.120</td> <td>  337.041</td>\n",
       "</tr>\n",
       "<tr>\n",
       "  <th>Item_Fat_Content_2</th>     <td>   91.9254</td> <td>  132.783</td> <td>    0.692</td> <td> 0.489</td> <td> -168.393</td> <td>  352.243</td>\n",
       "</tr>\n",
       "<tr>\n",
       "  <th>Item_Fat_Content_3</th>     <td>  321.6829</td> <td>  199.554</td> <td>    1.612</td> <td> 0.107</td> <td>  -69.539</td> <td>  712.904</td>\n",
       "</tr>\n",
       "<tr>\n",
       "  <th>Item_Type_0</th>            <td>  -15.2427</td> <td>  131.320</td> <td>   -0.116</td> <td> 0.908</td> <td> -272.694</td> <td>  242.208</td>\n",
       "</tr>\n",
       "<tr>\n",
       "  <th>Item_Type_1</th>            <td>   67.8014</td> <td>  151.365</td> <td>    0.448</td> <td> 0.654</td> <td> -228.947</td> <td>  364.549</td>\n",
       "</tr>\n",
       "<tr>\n",
       "  <th>Item_Type_2</th>            <td>  -23.8926</td> <td>  185.655</td> <td>   -0.129</td> <td> 0.898</td> <td> -387.864</td> <td>  340.079</td>\n",
       "</tr>\n",
       "<tr>\n",
       "  <th>Item_Type_3</th>            <td>  -54.2930</td> <td>  130.847</td> <td>   -0.415</td> <td> 0.678</td> <td> -310.815</td> <td>  202.229</td>\n",
       "</tr>\n",
       "<tr>\n",
       "  <th>Item_Type_4</th>            <td>  -93.2127</td> <td>  130.046</td> <td>   -0.717</td> <td> 0.474</td> <td> -348.165</td> <td>  161.739</td>\n",
       "</tr>\n",
       "<tr>\n",
       "  <th>Item_Type_5</th>            <td>  -63.6251</td> <td>  127.671</td> <td>   -0.498</td> <td> 0.618</td> <td> -313.921</td> <td>  186.671</td>\n",
       "</tr>\n",
       "<tr>\n",
       "  <th>Item_Type_6</th>            <td>  -81.0661</td> <td>  124.699</td> <td>   -0.650</td> <td> 0.516</td> <td> -325.536</td> <td>  163.404</td>\n",
       "</tr>\n",
       "<tr>\n",
       "  <th>Item_Type_7</th>            <td>  -93.5588</td> <td>  155.880</td> <td>   -0.600</td> <td> 0.548</td> <td> -399.159</td> <td>  212.041</td>\n",
       "</tr>\n",
       "<tr>\n",
       "  <th>Item_Type_8</th>            <td>  -17.6356</td> <td>  135.571</td> <td>   -0.130</td> <td> 0.897</td> <td> -283.420</td> <td>  248.148</td>\n",
       "</tr>\n",
       "<tr>\n",
       "  <th>Item_Type_9</th>            <td>  -78.3209</td> <td>  128.128</td> <td>   -0.611</td> <td> 0.541</td> <td> -329.513</td> <td>  172.871</td>\n",
       "</tr>\n",
       "<tr>\n",
       "  <th>Item_Type_10</th>           <td>  -73.1630</td> <td>  138.879</td> <td>   -0.527</td> <td> 0.598</td> <td> -345.432</td> <td>  199.106</td>\n",
       "</tr>\n",
       "<tr>\n",
       "  <th>Item_Type_11</th>           <td>  -52.9392</td> <td>  164.831</td> <td>   -0.321</td> <td> 0.748</td> <td> -376.087</td> <td>  270.208</td>\n",
       "</tr>\n",
       "<tr>\n",
       "  <th>Item_Type_12</th>           <td>  332.1675</td> <td>  223.670</td> <td>    1.485</td> <td> 0.138</td> <td> -106.333</td> <td>  770.668</td>\n",
       "</tr>\n",
       "<tr>\n",
       "  <th>Item_Type_13</th>           <td>  -35.3187</td> <td>  124.878</td> <td>   -0.283</td> <td> 0.777</td> <td> -280.139</td> <td>  209.501</td>\n",
       "</tr>\n",
       "<tr>\n",
       "  <th>Item_Type_14</th>           <td> -123.5774</td> <td>  137.421</td> <td>   -0.899</td> <td> 0.369</td> <td> -392.989</td> <td>  145.834</td>\n",
       "</tr>\n",
       "<tr>\n",
       "  <th>Outlet_Identifier_0</th>    <td>  -32.5067</td> <td>   13.097</td> <td>   -2.482</td> <td> 0.013</td> <td>  -58.182</td> <td>   -6.831</td>\n",
       "</tr>\n",
       "<tr>\n",
       "  <th>Outlet_Identifier_1</th>    <td>   73.1391</td> <td>  119.977</td> <td>    0.610</td> <td> 0.542</td> <td> -162.072</td> <td>  308.350</td>\n",
       "</tr>\n",
       "<tr>\n",
       "  <th>Outlet_Identifier_2</th>    <td>  176.4423</td> <td>   56.956</td> <td>    3.098</td> <td> 0.002</td> <td>   64.782</td> <td>  288.103</td>\n",
       "</tr>\n",
       "<tr>\n",
       "  <th>Outlet_Identifier_3</th>    <td>  -39.0733</td> <td>   45.835</td> <td>   -0.852</td> <td> 0.394</td> <td> -128.932</td> <td>   50.785</td>\n",
       "</tr>\n",
       "<tr>\n",
       "  <th>Outlet_Size_0</th>          <td>  -32.5067</td> <td>   13.097</td> <td>   -2.482</td> <td> 0.013</td> <td>  -58.182</td> <td>   -6.831</td>\n",
       "</tr>\n",
       "<tr>\n",
       "  <th>Outlet_Size_1</th>          <td>  160.5515</td> <td>   77.739</td> <td>    2.065</td> <td> 0.039</td> <td>    8.147</td> <td>  312.956</td>\n",
       "</tr>\n",
       "<tr>\n",
       "  <th>Outlet_Location_Type_0</th> <td>   48.3390</td> <td>   19.864</td> <td>    2.433</td> <td> 0.015</td> <td>    9.395</td> <td>   87.283</td>\n",
       "</tr>\n",
       "<tr>\n",
       "  <th>Outlet_Location_Type_1</th> <td>  176.4423</td> <td>   56.956</td> <td>    3.098</td> <td> 0.002</td> <td>   64.782</td> <td>  288.103</td>\n",
       "</tr>\n",
       "<tr>\n",
       "  <th>Outlet_Type_0</th>          <td>  192.2746</td> <td>   41.791</td> <td>    4.601</td> <td> 0.000</td> <td>  110.344</td> <td>  274.205</td>\n",
       "</tr>\n",
       "</table>\n",
       "<table class=\"simpletable\">\n",
       "<tr>\n",
       "  <th>Omnibus:</th>       <td>316.588</td> <th>  Durbin-Watson:     </th> <td>   2.037</td> \n",
       "</tr>\n",
       "<tr>\n",
       "  <th>Prob(Omnibus):</th> <td> 0.000</td>  <th>  Jarque-Bera (JB):  </th> <td> 661.959</td> \n",
       "</tr>\n",
       "<tr>\n",
       "  <th>Skew:</th>          <td> 0.456</td>  <th>  Prob(JB):          </th> <td>1.81e-144</td>\n",
       "</tr>\n",
       "<tr>\n",
       "  <th>Kurtosis:</th>      <td> 4.608</td>  <th>  Cond. No.          </th> <td>1.16e+16</td> \n",
       "</tr>\n",
       "</table><br/><br/>Warnings:<br/>[1] Standard Errors assume that the covariance matrix of the errors is correctly specified.<br/>[2] The smallest eigenvalue is 3.16e-22. This might indicate that there are<br/>strong multicollinearity problems or that the design matrix is singular."
      ],
      "text/plain": [
       "<class 'statsmodels.iolib.summary.Summary'>\n",
       "\"\"\"\n",
       "                            OLS Regression Results                            \n",
       "==============================================================================\n",
       "Dep. Variable:      Item_Outlet_Sales   R-squared:                       0.471\n",
       "Model:                            OLS   Adj. R-squared:                  0.468\n",
       "Method:                 Least Squares   F-statistic:                     152.4\n",
       "Date:                Thu, 13 Dec 2018   Prob (F-statistic):               0.00\n",
       "Time:                        14:47:26   Log-Likelihood:                -39117.\n",
       "No. Observations:                4650   AIC:                         7.829e+04\n",
       "Df Residuals:                    4622   BIC:                         7.847e+04\n",
       "Df Model:                          27                                         \n",
       "Covariance Type:            nonrobust                                         \n",
       "==========================================================================================\n",
       "                             coef    std err          t      P>|t|      [0.025      0.975]\n",
       "------------------------------------------------------------------------------------------\n",
       "Item_Weight               -0.1551      0.158     -0.981      0.327      -0.465       0.155\n",
       "Item_Visibility           -0.0049      0.014     -0.363      0.717      -0.031       0.022\n",
       "Item_MRP                   0.9392      0.015     62.974      0.000       0.910       0.968\n",
       "Age                      104.0203     42.445      2.451      0.014      20.809     187.232\n",
       "is_visible                 9.1690     72.415      0.127      0.899    -132.799     151.137\n",
       "Item_Fat_Content_0        56.0869    154.441      0.363      0.717    -246.691     358.864\n",
       "Item_Fat_Content_1        77.4602    132.407      0.585      0.559    -182.120     337.041\n",
       "Item_Fat_Content_2        91.9254    132.783      0.692      0.489    -168.393     352.243\n",
       "Item_Fat_Content_3       321.6829    199.554      1.612      0.107     -69.539     712.904\n",
       "Item_Type_0              -15.2427    131.320     -0.116      0.908    -272.694     242.208\n",
       "Item_Type_1               67.8014    151.365      0.448      0.654    -228.947     364.549\n",
       "Item_Type_2              -23.8926    185.655     -0.129      0.898    -387.864     340.079\n",
       "Item_Type_3              -54.2930    130.847     -0.415      0.678    -310.815     202.229\n",
       "Item_Type_4              -93.2127    130.046     -0.717      0.474    -348.165     161.739\n",
       "Item_Type_5              -63.6251    127.671     -0.498      0.618    -313.921     186.671\n",
       "Item_Type_6              -81.0661    124.699     -0.650      0.516    -325.536     163.404\n",
       "Item_Type_7              -93.5588    155.880     -0.600      0.548    -399.159     212.041\n",
       "Item_Type_8              -17.6356    135.571     -0.130      0.897    -283.420     248.148\n",
       "Item_Type_9              -78.3209    128.128     -0.611      0.541    -329.513     172.871\n",
       "Item_Type_10             -73.1630    138.879     -0.527      0.598    -345.432     199.106\n",
       "Item_Type_11             -52.9392    164.831     -0.321      0.748    -376.087     270.208\n",
       "Item_Type_12             332.1675    223.670      1.485      0.138    -106.333     770.668\n",
       "Item_Type_13             -35.3187    124.878     -0.283      0.777    -280.139     209.501\n",
       "Item_Type_14            -123.5774    137.421     -0.899      0.369    -392.989     145.834\n",
       "Outlet_Identifier_0      -32.5067     13.097     -2.482      0.013     -58.182      -6.831\n",
       "Outlet_Identifier_1       73.1391    119.977      0.610      0.542    -162.072     308.350\n",
       "Outlet_Identifier_2      176.4423     56.956      3.098      0.002      64.782     288.103\n",
       "Outlet_Identifier_3      -39.0733     45.835     -0.852      0.394    -128.932      50.785\n",
       "Outlet_Size_0            -32.5067     13.097     -2.482      0.013     -58.182      -6.831\n",
       "Outlet_Size_1            160.5515     77.739      2.065      0.039       8.147     312.956\n",
       "Outlet_Location_Type_0    48.3390     19.864      2.433      0.015       9.395      87.283\n",
       "Outlet_Location_Type_1   176.4423     56.956      3.098      0.002      64.782     288.103\n",
       "Outlet_Type_0            192.2746     41.791      4.601      0.000     110.344     274.205\n",
       "==============================================================================\n",
       "Omnibus:                      316.588   Durbin-Watson:                   2.037\n",
       "Prob(Omnibus):                  0.000   Jarque-Bera (JB):              661.959\n",
       "Skew:                           0.456   Prob(JB):                    1.81e-144\n",
       "Kurtosis:                       4.608   Cond. No.                     1.16e+16\n",
       "==============================================================================\n",
       "\n",
       "Warnings:\n",
       "[1] Standard Errors assume that the covariance matrix of the errors is correctly specified.\n",
       "[2] The smallest eigenvalue is 3.16e-22. This might indicate that there are\n",
       "strong multicollinearity problems or that the design matrix is singular.\n",
       "\"\"\""
      ]
     },
     "execution_count": 293,
     "metadata": {},
     "output_type": "execute_result"
    }
   ],
   "source": [
    "import statsmodels.api as sm\n",
    "model = sm.OLS(y,x_ohe).fit()\n",
    "model.summary()"
   ]
  },
  {
   "cell_type": "code",
   "execution_count": 290,
   "metadata": {},
   "outputs": [
    {
     "data": {
      "text/plain": [
       "(4650, 1)"
      ]
     },
     "execution_count": 290,
     "metadata": {},
     "output_type": "execute_result"
    }
   ],
   "source": [
    "y_new.shape"
   ]
  },
  {
   "cell_type": "code",
   "execution_count": 296,
   "metadata": {},
   "outputs": [],
   "source": [
    "from statsmodels.stats.outliers_influence import variance_inflation_factor"
   ]
  },
  {
   "cell_type": "code",
   "execution_count": 298,
   "metadata": {},
   "outputs": [
    {
     "name": "stderr",
     "output_type": "stream",
     "text": [
      "/home/himanshu/anaconda3/lib/python3.7/site-packages/statsmodels/stats/outliers_influence.py:181: RuntimeWarning: divide by zero encountered in double_scalars\n",
      "  vif = 1. / (1. - r_squared_i)\n"
     ]
    }
   ],
   "source": [
    "# For each X, calculate VIF and save in dataframe\n",
    "vif = pd.DataFrame()\n",
    "vif[\"VIF Factor\"] = [variance_inflation_factor(x_ohe.values, i) for i in range(x_ohe.shape[1])]\n",
    "vif[\"features\"] = x_ohe.columns"
   ]
  },
  {
   "cell_type": "code",
   "execution_count": 299,
   "metadata": {},
   "outputs": [
    {
     "data": {
      "text/html": [
       "<div>\n",
       "<style scoped>\n",
       "    .dataframe tbody tr th:only-of-type {\n",
       "        vertical-align: middle;\n",
       "    }\n",
       "\n",
       "    .dataframe tbody tr th {\n",
       "        vertical-align: top;\n",
       "    }\n",
       "\n",
       "    .dataframe thead th {\n",
       "        text-align: right;\n",
       "    }\n",
       "</style>\n",
       "<table border=\"1\" class=\"dataframe\">\n",
       "  <thead>\n",
       "    <tr style=\"text-align: right;\">\n",
       "      <th></th>\n",
       "      <th>VIF Factor</th>\n",
       "      <th>features</th>\n",
       "    </tr>\n",
       "  </thead>\n",
       "  <tbody>\n",
       "    <tr>\n",
       "      <th>0</th>\n",
       "      <td>1.018565</td>\n",
       "      <td>Item_Weight</td>\n",
       "    </tr>\n",
       "    <tr>\n",
       "      <th>1</th>\n",
       "      <td>1.211824</td>\n",
       "      <td>Item_Visibility</td>\n",
       "    </tr>\n",
       "    <tr>\n",
       "      <th>2</th>\n",
       "      <td>1.015835</td>\n",
       "      <td>Item_MRP</td>\n",
       "    </tr>\n",
       "    <tr>\n",
       "      <th>3</th>\n",
       "      <td>inf</td>\n",
       "      <td>Age</td>\n",
       "    </tr>\n",
       "    <tr>\n",
       "      <th>4</th>\n",
       "      <td>1.201875</td>\n",
       "      <td>is_visible</td>\n",
       "    </tr>\n",
       "    <tr>\n",
       "      <th>5</th>\n",
       "      <td>3.401143</td>\n",
       "      <td>Item_Fat_Content_0</td>\n",
       "    </tr>\n",
       "    <tr>\n",
       "      <th>6</th>\n",
       "      <td>16.431955</td>\n",
       "      <td>Item_Fat_Content_1</td>\n",
       "    </tr>\n",
       "    <tr>\n",
       "      <th>7</th>\n",
       "      <td>15.379416</td>\n",
       "      <td>Item_Fat_Content_2</td>\n",
       "    </tr>\n",
       "    <tr>\n",
       "      <th>8</th>\n",
       "      <td>1.747437</td>\n",
       "      <td>Item_Fat_Content_3</td>\n",
       "    </tr>\n",
       "    <tr>\n",
       "      <th>9</th>\n",
       "      <td>4.686717</td>\n",
       "      <td>Item_Type_0</td>\n",
       "    </tr>\n",
       "    <tr>\n",
       "      <th>10</th>\n",
       "      <td>2.460942</td>\n",
       "      <td>Item_Type_1</td>\n",
       "    </tr>\n",
       "    <tr>\n",
       "      <th>11</th>\n",
       "      <td>1.653371</td>\n",
       "      <td>Item_Type_2</td>\n",
       "    </tr>\n",
       "    <tr>\n",
       "      <th>12</th>\n",
       "      <td>4.774382</td>\n",
       "      <td>Item_Type_3</td>\n",
       "    </tr>\n",
       "    <tr>\n",
       "      <th>13</th>\n",
       "      <td>4.942353</td>\n",
       "      <td>Item_Type_4</td>\n",
       "    </tr>\n",
       "    <tr>\n",
       "      <th>14</th>\n",
       "      <td>5.843593</td>\n",
       "      <td>Item_Type_5</td>\n",
       "    </tr>\n",
       "    <tr>\n",
       "      <th>15</th>\n",
       "      <td>7.468172</td>\n",
       "      <td>Item_Type_6</td>\n",
       "    </tr>\n",
       "    <tr>\n",
       "      <th>16</th>\n",
       "      <td>2.321048</td>\n",
       "      <td>Item_Type_7</td>\n",
       "    </tr>\n",
       "    <tr>\n",
       "      <th>17</th>\n",
       "      <td>4.009796</td>\n",
       "      <td>Item_Type_8</td>\n",
       "    </tr>\n",
       "    <tr>\n",
       "      <th>18</th>\n",
       "      <td>6.113696</td>\n",
       "      <td>Item_Type_9</td>\n",
       "    </tr>\n",
       "    <tr>\n",
       "      <th>19</th>\n",
       "      <td>3.400157</td>\n",
       "      <td>Item_Type_10</td>\n",
       "    </tr>\n",
       "    <tr>\n",
       "      <th>20</th>\n",
       "      <td>2.030101</td>\n",
       "      <td>Item_Type_11</td>\n",
       "    </tr>\n",
       "    <tr>\n",
       "      <th>21</th>\n",
       "      <td>1.372840</td>\n",
       "      <td>Item_Type_12</td>\n",
       "    </tr>\n",
       "    <tr>\n",
       "      <th>22</th>\n",
       "      <td>7.358862</td>\n",
       "      <td>Item_Type_13</td>\n",
       "    </tr>\n",
       "    <tr>\n",
       "      <th>23</th>\n",
       "      <td>3.614059</td>\n",
       "      <td>Item_Type_14</td>\n",
       "    </tr>\n",
       "    <tr>\n",
       "      <th>24</th>\n",
       "      <td>inf</td>\n",
       "      <td>Outlet_Identifier_0</td>\n",
       "    </tr>\n",
       "    <tr>\n",
       "      <th>25</th>\n",
       "      <td>inf</td>\n",
       "      <td>Outlet_Identifier_1</td>\n",
       "    </tr>\n",
       "    <tr>\n",
       "      <th>26</th>\n",
       "      <td>inf</td>\n",
       "      <td>Outlet_Identifier_2</td>\n",
       "    </tr>\n",
       "    <tr>\n",
       "      <th>27</th>\n",
       "      <td>inf</td>\n",
       "      <td>Outlet_Identifier_3</td>\n",
       "    </tr>\n",
       "    <tr>\n",
       "      <th>28</th>\n",
       "      <td>inf</td>\n",
       "      <td>Outlet_Size_0</td>\n",
       "    </tr>\n",
       "    <tr>\n",
       "      <th>29</th>\n",
       "      <td>inf</td>\n",
       "      <td>Outlet_Size_1</td>\n",
       "    </tr>\n",
       "    <tr>\n",
       "      <th>30</th>\n",
       "      <td>inf</td>\n",
       "      <td>Outlet_Location_Type_0</td>\n",
       "    </tr>\n",
       "    <tr>\n",
       "      <th>31</th>\n",
       "      <td>inf</td>\n",
       "      <td>Outlet_Location_Type_1</td>\n",
       "    </tr>\n",
       "    <tr>\n",
       "      <th>32</th>\n",
       "      <td>inf</td>\n",
       "      <td>Outlet_Type_0</td>\n",
       "    </tr>\n",
       "  </tbody>\n",
       "</table>\n",
       "</div>"
      ],
      "text/plain": [
       "    VIF Factor                features\n",
       "0     1.018565             Item_Weight\n",
       "1     1.211824         Item_Visibility\n",
       "2     1.015835                Item_MRP\n",
       "3          inf                     Age\n",
       "4     1.201875              is_visible\n",
       "5     3.401143      Item_Fat_Content_0\n",
       "6    16.431955      Item_Fat_Content_1\n",
       "7    15.379416      Item_Fat_Content_2\n",
       "8     1.747437      Item_Fat_Content_3\n",
       "9     4.686717             Item_Type_0\n",
       "10    2.460942             Item_Type_1\n",
       "11    1.653371             Item_Type_2\n",
       "12    4.774382             Item_Type_3\n",
       "13    4.942353             Item_Type_4\n",
       "14    5.843593             Item_Type_5\n",
       "15    7.468172             Item_Type_6\n",
       "16    2.321048             Item_Type_7\n",
       "17    4.009796             Item_Type_8\n",
       "18    6.113696             Item_Type_9\n",
       "19    3.400157            Item_Type_10\n",
       "20    2.030101            Item_Type_11\n",
       "21    1.372840            Item_Type_12\n",
       "22    7.358862            Item_Type_13\n",
       "23    3.614059            Item_Type_14\n",
       "24         inf     Outlet_Identifier_0\n",
       "25         inf     Outlet_Identifier_1\n",
       "26         inf     Outlet_Identifier_2\n",
       "27         inf     Outlet_Identifier_3\n",
       "28         inf           Outlet_Size_0\n",
       "29         inf           Outlet_Size_1\n",
       "30         inf  Outlet_Location_Type_0\n",
       "31         inf  Outlet_Location_Type_1\n",
       "32         inf           Outlet_Type_0"
      ]
     },
     "execution_count": 299,
     "metadata": {},
     "output_type": "execute_result"
    }
   ],
   "source": [
    "vif"
   ]
  },
  {
   "cell_type": "code",
   "execution_count": 301,
   "metadata": {},
   "outputs": [
    {
     "name": "stdout",
     "output_type": "stream",
     "text": [
      "Item_Weight               0\n",
      "Item_Visibility           0\n",
      "Item_MRP                  0\n",
      "Age                       0\n",
      "is_visible                0\n",
      "Item_Fat_Content_0        0\n",
      "Item_Fat_Content_1        0\n",
      "Item_Fat_Content_2        0\n",
      "Item_Fat_Content_3        0\n",
      "Item_Type_0               0\n",
      "Item_Type_1               0\n",
      "Item_Type_2               0\n",
      "Item_Type_3               0\n",
      "Item_Type_4               0\n",
      "Item_Type_5               0\n",
      "Item_Type_6               0\n",
      "Item_Type_7               0\n",
      "Item_Type_8               0\n",
      "Item_Type_9               0\n",
      "Item_Type_10              0\n",
      "Item_Type_11              0\n",
      "Item_Type_12              0\n",
      "Item_Type_13              0\n",
      "Item_Type_14              0\n",
      "Outlet_Identifier_0       0\n",
      "Outlet_Identifier_1       0\n",
      "Outlet_Identifier_2       0\n",
      "Outlet_Identifier_3       0\n",
      "Outlet_Size_0             0\n",
      "Outlet_Size_1             0\n",
      "Outlet_Location_Type_0    0\n",
      "Outlet_Location_Type_1    0\n",
      "Outlet_Type_0             0\n",
      "dtype: int64\n"
     ]
    }
   ],
   "source": [
    "print(x_ohe.isnull().sum())"
   ]
  },
  {
   "cell_type": "code",
   "execution_count": 48,
   "metadata": {},
   "outputs": [],
   "source": [
    "res = x_predict - y_test"
   ]
  },
  {
   "cell_type": "code",
   "execution_count": 51,
   "metadata": {},
   "outputs": [
    {
     "data": {
      "text/plain": [
       "<matplotlib.collections.PathCollection at 0x7f74d50e9cf8>"
      ]
     },
     "execution_count": 51,
     "metadata": {},
     "output_type": "execute_result"
    },
    {
     "data": {
      "image/png": "[encoded data removed]",
      "text/plain": [
       "<Figure size 432x288 with 1 Axes>"
      ]
     },
     "metadata": {
      "needs_background": "light"
     },
     "output_type": "display_data"
    }
   ],
   "source": [
    "plt.scatter(res,x_predict)"
   ]
  },
  {
   "cell_type": "code",
   "execution_count": null,
   "metadata": {},
   "outputs": [],
   "source": []
  }
 ],
 "metadata": {
  "kernelspec": {
   "display_name": "Python 3",
   "language": "python",
   "name": "python3"
  },
  "language_info": {
   "codemirror_mode": {
    "name": "ipython",
    "version": 3
   },
   "file_extension": ".py",
   "mimetype": "text/x-python",
   "name": "python",
   "nbconvert_exporter": "python",
   "pygments_lexer": "ipython3",
   "version": "3.7.0"
  }
 },
 "nbformat": 4,
 "nbformat_minor": 2
}
